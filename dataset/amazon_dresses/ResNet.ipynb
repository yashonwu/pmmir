{
 "cells": [
  {
   "cell_type": "markdown",
   "id": "4d12bee2-f86d-4650-9477-2302e7019fee",
   "metadata": {},
   "source": [
    "# ResNet for captioner"
   ]
  },
  {
   "cell_type": "code",
   "execution_count": 1,
   "id": "da3b4069-4691-4c2f-b27d-f281c51b9c87",
   "metadata": {},
   "outputs": [],
   "source": [
    "from __future__ import absolute_import\n",
    "from __future__ import division\n",
    "from __future__ import print_function\n",
    "\n",
    "import os, sys\n",
    "import json\n",
    "import argparse\n",
    "from random import shuffle, seed\n",
    "import string\n",
    "# non-standard dependencies:\n",
    "import h5py\n",
    "from six.moves import cPickle\n",
    "import numpy as np\n",
    "import torch\n",
    "import torchvision.models as models\n",
    "from torch.autograd import Variable\n",
    "import skimage.io\n",
    "\n",
    "from torchvision import transforms as trn\n",
    "\n",
    "from sklearn.decomposition import PCA\n",
    "\n",
    "preprocess = trn.Compose([\n",
    "    # trn.ToTensor(),\n",
    "    trn.Normalize([0.485, 0.456, 0.406], [0.229, 0.224, 0.225])\n",
    "])\n",
    "\n",
    "\n",
    "from sys import path\n",
    "sys.path.insert(0, os.getcwd())\n",
    "\n",
    "from captioning.utils.resnet_utils import myResnet\n",
    "import captioning.utils.resnet as resnet"
   ]
  },
  {
   "cell_type": "code",
   "execution_count": 2,
   "id": "4359a2cf-23bf-42e9-9cff-d431db4efbe9",
   "metadata": {},
   "outputs": [],
   "source": [
    "def compute_img_feat(img_name, im_path, my_resnet,att_size):\n",
    "    # load the image\n",
    "    I = skimage.io.imread(os.path.join(im_path, img_name))\n",
    "\n",
    "    if len(I.shape) == 2:\n",
    "        I = I[:, :, np.newaxis]\n",
    "        I = np.concatenate((I, I, I), axis=2)\n",
    "\n",
    "    I = I.astype('float32') / 255.0\n",
    "    I = torch.from_numpy(I.transpose([2, 0, 1]))\n",
    "    if torch.cuda.is_available(): I = I.cuda()\n",
    "    with torch.no_grad():\n",
    "        I = preprocess(I)\n",
    "        # I = Variable(preprocess(I), volatile=True)\n",
    "    fc, att = my_resnet(I, att_size)\n",
    "\n",
    "    return fc.data.cpu().float().numpy(), att.data.cpu().float().numpy()\n",
    "\n",
    "def make_dir_if_not_there(d):\n",
    "    if not os.path.isdir(d): os.mkdir(d)\n",
    "\n",
    "def main(is_relative = 'True',\n",
    "    att_size = 7,\n",
    "    model = 'resnet101',\n",
    "    model_root = 'imagenet_weights',\n",
    "    output_dir = 'image_features',\n",
    "    dataset_root = 'datasets/amazon_dresses/',\n",
    "    image_dir = 'images_resized',\n",
    "    split = 'dresses_docnos.json'):\n",
    "\n",
    "    imageDir = dataset_root + image_dir\n",
    "    split = dataset_root + split\n",
    "\n",
    "    net = getattr(resnet, model)()\n",
    "    net.load_state_dict(torch.load(os.path.join(model_root,model+'.pth')))\n",
    "    my_resnet = myResnet(net)\n",
    "    if torch.cuda.is_available():\n",
    "        print('cuda available, use cuda')\n",
    "        my_resnet.cuda()\n",
    "    my_resnet.eval()\n",
    "\n",
    "    split = json.load(open(split, 'r'))\n",
    "    N = len(split)\n",
    "\n",
    "    seed(42) # make reproducible\n",
    "    \n",
    "    all_fc = []\n",
    "    all_att = []\n",
    "    for i, img_temp in enumerate(split):\n",
    "        im_id = split[i]\n",
    "        \n",
    "        imName = im_id+\".jpg\"\n",
    "        tmp_fc, tmp_att = compute_img_feat(imName, imageDir, my_resnet,att_size)\n",
    "\n",
    "        all_fc.append(tmp_fc)\n",
    "        all_att.append(tmp_att)\n",
    "\n",
    "        if i % 2000 == 0:\n",
    "            print('processing %d/%d (%.2f%% done)' % (i, N, i*100.0/N))\n",
    "            sys.stdout.flush()\n",
    "    \n",
    "    np.savez_compressed(os.path.join(output_dir, 'fc_feature'), feat=all_fc)\n",
    "    np.savez_compressed(os.path.join(output_dir, 'att_feature'), feat=all_att)\n",
    "\n",
    "    print('Feature preprocessing done')\n"
   ]
  },
  {
   "cell_type": "code",
   "execution_count": 3,
   "id": "f8883db2-2427-4c2e-a727-0bdb7d2b9ae8",
   "metadata": {},
   "outputs": [
    {
     "name": "stdout",
     "output_type": "stream",
     "text": [
      "cuda available, use cuda\n",
      "processing 0/18501 (0.00% done)\n",
      "processing 2000/18501 (10.81% done)\n",
      "processing 4000/18501 (21.62% done)\n",
      "processing 6000/18501 (32.43% done)\n",
      "processing 8000/18501 (43.24% done)\n",
      "processing 10000/18501 (54.05% done)\n",
      "processing 12000/18501 (64.86% done)\n",
      "processing 14000/18501 (75.67% done)\n",
      "processing 16000/18501 (86.48% done)\n",
      "processing 18000/18501 (97.29% done)\n",
      "Feature preprocessing done\n"
     ]
    }
   ],
   "source": [
    "main()"
   ]
  },
  {
   "cell_type": "code",
   "execution_count": null,
   "id": "08543799-5180-4c84-b946-90d38b763ce3",
   "metadata": {},
   "outputs": [],
   "source": []
  },
  {
   "cell_type": "code",
   "execution_count": null,
   "id": "40ddf230-9f84-4453-b023-fd39c0c0dd86",
   "metadata": {},
   "outputs": [],
   "source": []
  },
  {
   "cell_type": "code",
   "execution_count": null,
   "id": "8df657a1-f163-49bc-a279-c5ca45e32485",
   "metadata": {},
   "outputs": [],
   "source": []
  },
  {
   "cell_type": "code",
   "execution_count": null,
   "id": "ed80cd68-de5d-4fb8-af5f-cc1e7eaf8d31",
   "metadata": {},
   "outputs": [],
   "source": []
  }
 ],
 "metadata": {
  "kernelspec": {
   "display_name": "Python 3 (ipykernel)",
   "language": "python",
   "name": "python3"
  },
  "language_info": {
   "codemirror_mode": {
    "name": "ipython",
    "version": 3
   },
   "file_extension": ".py",
   "mimetype": "text/x-python",
   "name": "python",
   "nbconvert_exporter": "python",
   "pygments_lexer": "ipython3",
   "version": "3.9.7"
  }
 },
 "nbformat": 4,
 "nbformat_minor": 5
}
