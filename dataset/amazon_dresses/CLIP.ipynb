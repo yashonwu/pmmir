{
 "cells": [
  {
   "cell_type": "markdown",
   "id": "fb98380d-e87e-44a0-9415-9231431e96c0",
   "metadata": {},
   "source": [
    "# CLIP for image processing"
   ]
  },
  {
   "cell_type": "code",
   "execution_count": 1,
   "id": "0f395847-9de3-418a-b567-b13c42f21e0c",
   "metadata": {},
   "outputs": [],
   "source": [
    "# ! pip install ftfy regex tqdm\n",
    "# ! pip install git+https://github.com/openai/CLIP.git"
   ]
  },
  {
   "cell_type": "code",
   "execution_count": 1,
   "id": "e221fa0e-3ce7-4362-9af2-14ddeddcd046",
   "metadata": {},
   "outputs": [
    {
     "name": "stdout",
     "output_type": "stream",
     "text": [
      "Torch version: 1.10.0+cu113\n"
     ]
    }
   ],
   "source": [
    "import numpy as np\n",
    "import torch\n",
    "from pkg_resources import packaging\n",
    "\n",
    "print(\"Torch version:\", torch.__version__)"
   ]
  },
  {
   "cell_type": "code",
   "execution_count": 2,
   "id": "95277bac-96f3-4a94-97fb-0b47c72bbc2e",
   "metadata": {},
   "outputs": [
    {
     "data": {
      "text/plain": [
       "['RN50',\n",
       " 'RN101',\n",
       " 'RN50x4',\n",
       " 'RN50x16',\n",
       " 'RN50x64',\n",
       " 'ViT-B/32',\n",
       " 'ViT-B/16',\n",
       " 'ViT-L/14',\n",
       " 'ViT-L/14@336px']"
      ]
     },
     "execution_count": 2,
     "metadata": {},
     "output_type": "execute_result"
    }
   ],
   "source": [
    "import clip\n",
    "\n",
    "clip.available_models()"
   ]
  },
  {
   "cell_type": "code",
   "execution_count": 3,
   "id": "86156b1f-15d9-4b1f-9e34-2029b61afa24",
   "metadata": {},
   "outputs": [
    {
     "name": "stderr",
     "output_type": "stream",
     "text": [
      "100%|███████████████████████████████████████| 278M/278M [00:33<00:00, 8.83MiB/s]\n"
     ]
    },
    {
     "name": "stdout",
     "output_type": "stream",
     "text": [
      "Model parameters: 119,688,033\n",
      "Input resolution: 224\n",
      "Context length: 77\n",
      "Vocab size: 49408\n"
     ]
    }
   ],
   "source": [
    "model, preprocess = clip.load(\"ViT-B/32\")\n",
    "# model, preprocess = clip.load(\"RN101\")\n",
    "model.cuda().eval()\n",
    "input_resolution = model.visual.input_resolution\n",
    "context_length = model.context_length\n",
    "vocab_size = model.vocab_size\n",
    "\n",
    "print(\"Model parameters:\", f\"{np.sum([int(np.prod(p.shape)) for p in model.parameters()]):,}\")\n",
    "print(\"Input resolution:\", input_resolution)\n",
    "print(\"Context length:\", context_length)\n",
    "print(\"Vocab size:\", vocab_size)"
   ]
  },
  {
   "cell_type": "code",
   "execution_count": 4,
   "id": "a55124c6-f6e6-4fb6-b4ad-31afe1befdf1",
   "metadata": {},
   "outputs": [
    {
     "data": {
      "text/plain": [
       "Compose(\n",
       "    Resize(size=224, interpolation=bicubic, max_size=None, antialias=None)\n",
       "    CenterCrop(size=(224, 224))\n",
       "    <function _convert_image_to_rgb at 0x7f104e246d30>\n",
       "    ToTensor()\n",
       "    Normalize(mean=(0.48145466, 0.4578275, 0.40821073), std=(0.26862954, 0.26130258, 0.27577711))\n",
       ")"
      ]
     },
     "execution_count": 4,
     "metadata": {},
     "output_type": "execute_result"
    }
   ],
   "source": [
    "preprocess"
   ]
  },
  {
   "cell_type": "code",
   "execution_count": 5,
   "id": "c2a9f2c5-e16b-4c25-aa62-2331b16c7dea",
   "metadata": {},
   "outputs": [
    {
     "data": {
      "text/plain": [
       "tensor([[49406,  3306,  1002,   256, 49407,     0,     0,     0,     0,     0,\n",
       "             0,     0,     0,     0,     0,     0,     0,     0,     0,     0,\n",
       "             0,     0,     0,     0,     0,     0,     0,     0,     0,     0,\n",
       "             0,     0,     0,     0,     0,     0,     0,     0,     0,     0,\n",
       "             0,     0,     0,     0,     0,     0,     0,     0,     0,     0,\n",
       "             0,     0,     0,     0,     0,     0,     0,     0,     0,     0,\n",
       "             0,     0,     0,     0,     0,     0,     0,     0,     0,     0,\n",
       "             0,     0,     0,     0,     0,     0,     0]], dtype=torch.int32)"
      ]
     },
     "execution_count": 5,
     "metadata": {},
     "output_type": "execute_result"
    }
   ],
   "source": [
    "clip.tokenize(\"Hello World!\")"
   ]
  },
  {
   "cell_type": "code",
   "execution_count": 6,
   "id": "ba6850d0-ef5e-4bf5-9c4c-0d3a7d29114d",
   "metadata": {},
   "outputs": [],
   "source": [
    "dataset_root = \"dataset/amazon_dresses/\"\n",
    "image_dir = dataset_root + 'images_resized'\n",
    "docnos_file = dataset_root + 'dresses_docnos.json'"
   ]
  },
  {
   "cell_type": "code",
   "execution_count": 7,
   "id": "0e60b447-0b01-4b65-8250-d2cb46c33cc3",
   "metadata": {},
   "outputs": [],
   "source": [
    "import json\n",
    "splits = json.load(open(docnos_file, 'r'))"
   ]
  },
  {
   "cell_type": "code",
   "execution_count": 8,
   "id": "1c6f9519-1a25-42c0-9f64-ed72d1b3016f",
   "metadata": {},
   "outputs": [
    {
     "name": "stderr",
     "output_type": "stream",
     "text": [
      "100%|██████████| 18501/18501 [07:15<00:00, 42.52it/s]\n"
     ]
    }
   ],
   "source": [
    "from PIL import Image\n",
    "import os\n",
    "from tqdm import tqdm\n",
    "\n",
    "image_features = []\n",
    "for filename in tqdm(splits):\n",
    "    image = Image.open(os.path.join(image_dir, filename+'.jpg')).convert(\"RGB\")\n",
    "    image_input = preprocess(image)\n",
    "    # image_input = torch.tensor(image_input).cuda()\n",
    "    image_input = torch.unsqueeze(image_input, 0).cuda()\n",
    "    with torch.no_grad():\n",
    "        image_feature = model.encode_image(image_input).float()\n",
    "    image_features.append(image_feature)"
   ]
  },
  {
   "cell_type": "code",
   "execution_count": 9,
   "id": "cd96d5aa-3bae-4073-814c-97347a16b245",
   "metadata": {},
   "outputs": [
    {
     "data": {
      "text/plain": [
       "torch.Size([18501, 512])"
      ]
     },
     "execution_count": 9,
     "metadata": {},
     "output_type": "execute_result"
    }
   ],
   "source": [
    "image_features = torch.cat(image_features)\n",
    "image_features.shape"
   ]
  },
  {
   "cell_type": "code",
   "execution_count": 10,
   "id": "31932aa5-16e9-4a8d-b9ad-079c3d105cdf",
   "metadata": {},
   "outputs": [],
   "source": [
    "embeddings_clip = {\"all\":image_features}\n",
    "\n",
    "from six.moves import cPickle\n",
    "with open(os.path.join('image_features', 'clip_embedding.p'), 'wb') as f:\n",
    "    cPickle.dump(embeddings_clip, f)"
   ]
  },
  {
   "cell_type": "code",
   "execution_count": null,
   "id": "cd91aaa8-b808-4cf5-a21e-87ff1da29344",
   "metadata": {},
   "outputs": [],
   "source": []
  },
  {
   "cell_type": "code",
   "execution_count": null,
   "id": "05327b0b-c357-4954-84db-94b57075dcf9",
   "metadata": {},
   "outputs": [],
   "source": []
  }
 ],
 "metadata": {
  "kernelspec": {
   "display_name": "Python 3 (ipykernel)",
   "language": "python",
   "name": "python3"
  },
  "language_info": {
   "codemirror_mode": {
    "name": "ipython",
    "version": 3
   },
   "file_extension": ".py",
   "mimetype": "text/x-python",
   "name": "python",
   "nbconvert_exporter": "python",
   "pygments_lexer": "ipython3",
   "version": "3.9.7"
  }
 },
 "nbformat": 4,
 "nbformat_minor": 5
}
